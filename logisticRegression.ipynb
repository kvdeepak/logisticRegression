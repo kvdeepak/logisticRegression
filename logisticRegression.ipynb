{
 "cells": [
  {
   "cell_type": "code",
   "execution_count": 4,
   "metadata": {},
   "outputs": [],
   "source": [
    "import os\n",
    "import struct\n",
    "import numpy as np\n",
    "import matplotlib as mpl\n",
    "import scipy as sp\n",
    "import scipy.sparse\n",
    "from matplotlib import pyplot\n",
    "\n",
    "#Function to read from MNIST data\n",
    "def read(dataset = \"training\", path = \".\"):\n",
    "    if dataset is \"training\":\n",
    "        fname_img = os.path.join(path, 'train-images.idx3-ubyte')\n",
    "        fname_lbl = os.path.join(path, 'train-labels.idx1-ubyte')\n",
    "    elif dataset is \"testing\":\n",
    "        fname_img = os.path.join(path, 't10k-images.idx3-ubyte')\n",
    "        fname_lbl = os.path.join(path, 't10k-labels.idx1-ubyte')\n",
    "    else:\n",
    "        raise ValueError(\"dataset must be 'testing' or 'training'\")\n",
    "\n",
    "    # Load everything in some numpy arrays\n",
    "    with open(fname_lbl, 'rb') as flbl:\n",
    "        _, _ = struct.unpack(\">II\", flbl.read(8))\n",
    "        lbl = np.fromfile(flbl, dtype=np.int8)\n",
    "\n",
    "    with open(fname_img, 'rb') as fimg:\n",
    "        _, num, rows, cols = struct.unpack(\">IIII\", fimg.read(16))\n",
    "        img = np.fromfile(fimg, dtype=np.uint8).reshape(len(lbl), rows, cols)\n",
    "\n",
    "    return (lbl, img)\n",
    "\n",
    "def show(image):\n",
    "    \"\"\"\n",
    "    Render a given numpy.uint8 2D array of pixel data.\n",
    "    \"\"\"\n",
    "    fig = pyplot.figure()\n",
    "    ax = fig.add_subplot(1,1,1)\n",
    "    imgplot = ax.imshow(image, cmap=mpl.cm.Greys)\n",
    "    imgplot.set_interpolation('nearest')\n",
    "    ax.xaxis.set_ticks_position('top')\n",
    "    ax.yaxis.set_ticks_position('left')\n",
    "    pyplot.show()"
   ]
  },
  {
   "cell_type": "code",
   "execution_count": 7,
   "metadata": {},
   "outputs": [
    {
     "data": {
      "image/png": "[encoded data removed]",
      "text/plain": [
       "<Figure size 432x288 with 1 Axes>"
      ]
     },
     "metadata": {
      "needs_background": "light"
     },
     "output_type": "display_data"
    },
    {
     "name": "stdout",
     "output_type": "stream",
     "text": [
      "0\n"
     ]
    }
   ],
   "source": [
    "#Reading Training Data and Test Data\n",
    "[trainLabels,trainSet]=read(dataset = \"training\", path = \".\")\n",
    "[testLabels,testSet]=read(dataset = \"testing\", path = \".\")\n",
    "show(trainSet[1])\n",
    "print(trainLabels[1])"
   ]
  },
  {
   "cell_type": "code",
   "execution_count": 1,
   "metadata": {},
   "outputs": [
    {
     "name": "stdout",
     "output_type": "stream",
     "text": [
      "Run: 1; Accuracy: 0.6299\n",
      "Run: 2; Accuracy: 0.721\n",
      "Run: 3; Accuracy: 0.7274\n",
      "Run: 4; Accuracy: 0.7453\n",
      "Run: 5; Accuracy: 0.7499\n",
      "Run: 6; Accuracy: 0.7564\n",
      "Run: 7; Accuracy: 0.7613\n",
      "Run: 8; Accuracy: 0.7647\n",
      "Run: 9; Accuracy: 0.7682\n",
      "Run: 10; Accuracy: 0.7705\n",
      "Run: 11; Accuracy: 0.772\n",
      "Run: 12; Accuracy: 0.7762\n",
      "Run: 13; Accuracy: 0.7796\n",
      "Run: 14; Accuracy: 0.7828\n",
      "Run: 15; Accuracy: 0.7864\n",
      "Run: 16; Accuracy: 0.7913\n",
      "Run: 17; Accuracy: 0.7947\n",
      "Run: 18; Accuracy: 0.7992\n",
      "Run: 19; Accuracy: 0.8036\n",
      "Run: 20; Accuracy: 0.8086\n",
      "Run: 21; Accuracy: 0.8131\n",
      "Run: 22; Accuracy: 0.8176\n",
      "Run: 23; Accuracy: 0.8221\n",
      "Run: 24; Accuracy: 0.8275\n",
      "Run: 25; Accuracy: 0.8322\n",
      "Run: 26; Accuracy: 0.8354\n",
      "Run: 27; Accuracy: 0.8387\n",
      "Run: 28; Accuracy: 0.8423\n",
      "Run: 29; Accuracy: 0.8456\n",
      "Run: 30; Accuracy: 0.8482\n",
      "Run: 31; Accuracy: 0.8499\n",
      "Run: 32; Accuracy: 0.8526\n",
      "Run: 33; Accuracy: 0.8541\n",
      "Run: 34; Accuracy: 0.8567\n",
      "Run: 35; Accuracy: 0.8583\n",
      "Run: 36; Accuracy: 0.8597\n",
      "Run: 37; Accuracy: 0.8607\n",
      "Run: 38; Accuracy: 0.8627\n",
      "Run: 39; Accuracy: 0.8635\n",
      "Run: 40; Accuracy: 0.8649\n",
      "Run: 41; Accuracy: 0.8662\n",
      "Run: 42; Accuracy: 0.8676\n",
      "Run: 43; Accuracy: 0.8691\n",
      "Run: 44; Accuracy: 0.8697\n",
      "Run: 45; Accuracy: 0.8699\n",
      "Run: 46; Accuracy: 0.8703\n",
      "Run: 47; Accuracy: 0.8715\n",
      "Run: 48; Accuracy: 0.8722\n",
      "Run: 49; Accuracy: 0.8727\n",
      "Run: 50; Accuracy: 0.8733\n",
      "Run: 51; Accuracy: 0.8743\n",
      "Run: 52; Accuracy: 0.8751\n",
      "Run: 53; Accuracy: 0.8758\n",
      "Run: 54; Accuracy: 0.8764\n",
      "Run: 55; Accuracy: 0.877\n",
      "Run: 56; Accuracy: 0.878\n",
      "Run: 57; Accuracy: 0.8789\n",
      "Run: 58; Accuracy: 0.8798\n",
      "Run: 59; Accuracy: 0.8803\n",
      "Run: 60; Accuracy: 0.8807\n",
      "Run: 61; Accuracy: 0.8811\n",
      "Run: 62; Accuracy: 0.8819\n",
      "Run: 63; Accuracy: 0.8825\n",
      "Run: 64; Accuracy: 0.8833\n",
      "Run: 65; Accuracy: 0.8836\n",
      "Run: 66; Accuracy: 0.8839\n",
      "Run: 67; Accuracy: 0.884\n",
      "Run: 68; Accuracy: 0.8849\n",
      "Run: 69; Accuracy: 0.8853\n",
      "Run: 70; Accuracy: 0.8854\n",
      "Run: 71; Accuracy: 0.8859\n",
      "Run: 72; Accuracy: 0.8864\n",
      "Run: 73; Accuracy: 0.8867\n",
      "Run: 74; Accuracy: 0.8869\n",
      "Run: 75; Accuracy: 0.8873\n",
      "Run: 76; Accuracy: 0.8874\n",
      "Run: 77; Accuracy: 0.8875\n",
      "Run: 78; Accuracy: 0.8877\n",
      "Run: 79; Accuracy: 0.8878\n",
      "Run: 80; Accuracy: 0.8881\n",
      "Run: 81; Accuracy: 0.8881\n",
      "Run: 82; Accuracy: 0.8881\n",
      "Run: 83; Accuracy: 0.8888\n",
      "Run: 84; Accuracy: 0.889\n",
      "Run: 85; Accuracy: 0.8894\n",
      "Run: 86; Accuracy: 0.89\n",
      "Run: 87; Accuracy: 0.8903\n",
      "Run: 88; Accuracy: 0.8906\n",
      "Run: 89; Accuracy: 0.8909\n",
      "Run: 90; Accuracy: 0.8913\n",
      "Run: 91; Accuracy: 0.8912\n",
      "Run: 92; Accuracy: 0.8915\n",
      "Run: 93; Accuracy: 0.8919\n",
      "Run: 94; Accuracy: 0.8922\n",
      "Run: 95; Accuracy: 0.8924\n",
      "Run: 96; Accuracy: 0.8926\n",
      "Run: 97; Accuracy: 0.8928\n",
      "Run: 98; Accuracy: 0.8931\n",
      "Run: 99; Accuracy: 0.8931\n",
      "Run: 100; Accuracy: 0.8933\n"
     ]
    }
   ],
   "source": [
    "#Preprocessing Training Data and Test Data:\n",
    "# 1- Changing shape of each sample data from 28*28 to 1*784\n",
    "# 2- Dividing each pixel magnitude in sampe by 255\n",
    "trainVec=np.zeros(shape=(len(trainSet),784),dtype=float)\n",
    "testVec=np.zeros(shape=(len(testSet),784),dtype=float)\n",
    "\n",
    "for i in range(len(trainSet)):\n",
    "    trainVec[i]=np.reshape(trainSet[i]/255,(1,784))\n",
    "for i in range(len(testSet)):\n",
    "    testVec[i]=np.reshape(testSet[i]/255,(1,784))\n",
    "    \n",
    "#Function to predict Class probabilities given weight vector and Sample Data\n",
    "#P(Y|Xi)=e^(W'Xi)/(1+sum(e^(W'Xi))) where i=0,8; P(Y|Xi)=1/(1+sum(e^(W'Xi))) where i=9\n",
    "def predict(weightVectors,featureVector):\n",
    "    fV=featureVector.reshape(1,784)\n",
    "    classProb=np.zeros(shape=(10,1),dtype=float)\n",
    "    classProb[0:-1]=np.exp(np.matmul(weightVectors,fV.transpose()))\n",
    "    classProb[-1]=1\n",
    "    classProb=classProb/sum(classProb)\n",
    "    return classProb\n",
    "\n",
    "#Initializing weight vector(9x784) to all 0s\n",
    "weightVectors=np.zeros(shape=(9,784),dtype=float)\n",
    "\n",
    "weightUpdate=np.zeros(shape=(9,784),dtype=float)\n",
    "runs=100\n",
    "learningRate=0.4\n",
    "Y=np.zeros(shape=(9,1),dtype=float)\n",
    "\n",
    "#Y contains class labels 0 to 9, which will be compared with sample class label\n",
    "# to return 1 or 0\n",
    "for i in range(0,9):\n",
    "    Y[i]=i;\n",
    "\n",
    "Accuracy=list()\n",
    "while(runs>0):\n",
    "    runs=runs-1\n",
    "    #weightUpdate=np.zeros(shape=(9,784),dtype=float)\n",
    "    count=0\n",
    "    for i in range(len(trainSet)):\n",
    "        #update per sample = alpha*Xl = n*P(Yl=1 | Xl,w)*Xl\n",
    "        alpha=learningRate*(np.equal(Y,trainLabels[i])-predict(weightVectors,trainVec[i])[0:-1])/len(trainLabels)\n",
    "        weightUpdate=weightUpdate+alpha*trainVec[i].reshape(1,784).repeat(9,axis=0)\n",
    "    #weightVectors=weightVectors+weightUpdate\n",
    "    weightVectors=weightUpdate\n",
    "\n",
    "    for i in range(len(testSet)):\n",
    "        if(predict(weightVectors,testVec[i]).argmax(axis=0)==testLabels[i]):\n",
    "            count=count+1\n",
    "    Accuracy.append(count/len(testLabels))\n",
    "    print(\"Run: \"+str(100-runs)+\"; Accuracy: \"+str(count/len(testLabels)))"
   ]
  },
  {
   "cell_type": "code",
   "execution_count": 3,
   "metadata": {},
   "outputs": [
    {
     "data": {
      "text/plain": [
       "Text(0,0.5,'Accuracy')"
      ]
     },
     "execution_count": 3,
     "metadata": {},
     "output_type": "execute_result"
    },
    {
     "data": {
      "image/png": "[encoded data removed]",
      "text/plain": [
       "<Figure size 432x288 with 1 Axes>"
      ]
     },
     "metadata": {
      "needs_background": "light"
     },
     "output_type": "display_data"
    }
   ],
   "source": [
    "Run=list()\n",
    "for i in range(100):\n",
    "    Run.append(i+1)\n",
    "pyplot.plot(Run,Accuracy)\n",
    "pyplot.xlabel('No of iterations')\n",
    "pyplot.ylabel('Accuracy')"
   ]
  }
 ],
 "metadata": {
  "kernelspec": {
   "display_name": "Python 3",
   "language": "python",
   "name": "python3"
  },
  "language_info": {
   "codemirror_mode": {
    "name": "ipython",
    "version": 3
   },
   "file_extension": ".py",
   "mimetype": "text/x-python",
   "name": "python",
   "nbconvert_exporter": "python",
   "pygments_lexer": "ipython3",
   "version": "3.6.6"
  }
 },
 "nbformat": 4,
 "nbformat_minor": 2
}
